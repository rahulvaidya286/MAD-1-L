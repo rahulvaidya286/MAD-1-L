{
  "nbformat": 4,
  "nbformat_minor": 0,
  "metadata": {
    "colab": {
      "provenance": [],
      "include_colab_link": true
    },
    "kernelspec": {
      "name": "python3",
      "display_name": "Python 3"
    },
    "language_info": {
      "name": "python"
    }
  },
  "cells": [
    {
      "cell_type": "markdown",
      "metadata": {
        "id": "view-in-github",
        "colab_type": "text"
      },
      "source": [
        "<a href=\"https://colab.research.google.com/github/rahulvaidya286/MAD-1-L/blob/main/DL_workshop_programming_exam.ipynb\" target=\"_parent\"><img src=\"https://colab.research.google.com/assets/colab-badge.svg\" alt=\"Open In Colab\"/></a>"
      ]
    },
    {
      "cell_type": "markdown",
      "source": [
        "# Q1\n",
        "Create a 4x4 tensor with random floating-point values between 0 and 1 after setting the seed to 42. Compute the sum of all elements in the tensor.\n",
        "\n",
        "Ans: 10.3908 (Range: 10 to 11)"
      ],
      "metadata": {
        "id": "45OGXJwgArpr"
      }
    },
    {
      "cell_type": "code",
      "execution_count": null,
      "metadata": {
        "colab": {
          "base_uri": "https://localhost:8080/"
        },
        "id": "KeMkHhE2AkAs",
        "outputId": "05afe996-24cb-40fe-dbcb-54a83890a69f"
      },
      "outputs": [
        {
          "output_type": "stream",
          "name": "stdout",
          "text": [
            "tensor([[0.8823, 0.9150, 0.3829, 0.9593],\n",
            "        [0.3904, 0.6009, 0.2566, 0.7936],\n",
            "        [0.9408, 0.1332, 0.9346, 0.5936],\n",
            "        [0.8694, 0.5677, 0.7411, 0.4294]])\n"
          ]
        },
        {
          "output_type": "execute_result",
          "data": {
            "text/plain": [
              "tensor(10.3908)"
            ]
          },
          "metadata": {},
          "execution_count": 1
        }
      ],
      "source": [
        "import torch\n",
        "torch.manual_seed(42)\n",
        "x = torch.rand(4, 4)\n",
        "print(x)\n",
        "torch.sum(x)"
      ]
    },
    {
      "cell_type": "markdown",
      "source": [
        "# Q2\n",
        "Create a tensor x with the value 3.0 and set requires_grad=True. Define y = x^2 + 2*x. Compute the gradient of y with respect to x.\n",
        "\n",
        "Ans: 8.0 (range: 7.5 to 8.5)"
      ],
      "metadata": {
        "id": "ijrWiN_SCBnf"
      }
    },
    {
      "cell_type": "code",
      "source": [
        "# Code (no randomness involved)\n",
        "x = torch.tensor(3.0, requires_grad=True)\n",
        "y = x ** 2 + 2 * x\n",
        "y.backward()\n",
        "gradient = x.grad.item()\n",
        "gradient"
      ],
      "metadata": {
        "colab": {
          "base_uri": "https://localhost:8080/"
        },
        "id": "cCTNslz6CJ_W",
        "outputId": "43e9a8c8-e9b2-4426-f86d-acd5e52e93e9"
      },
      "execution_count": null,
      "outputs": [
        {
          "output_type": "execute_result",
          "data": {
            "text/plain": [
              "8.0"
            ]
          },
          "metadata": {},
          "execution_count": 2
        }
      ]
    },
    {
      "cell_type": "markdown",
      "source": [
        "# Q3\n",
        "Use the following small dataset with fixed values:\n",
        "\n",
        "```\n",
        "features = torch.tensor([[0.5, 1.0], [1.0, 2.0], [1.5, 3.0], [2.0, 4.0]])\n",
        "labels = torch.tensor([[0.5], [1.0], [1.5], [2.0]])\n",
        "```\n",
        "\n",
        "Build a feed-forward neural network with 2 input features and 1 output, using a single hidden layer of 3 neurons. Use `torch.nn.Linear` layers and `ReLU` as the activation function.\n",
        "\n",
        "Enter the number of parameters in the network.\n",
        "\n",
        "Ans:"
      ],
      "metadata": {
        "id": "IB5G72qqCYK3"
      }
    },
    {
      "cell_type": "code",
      "source": [
        "features = torch.tensor([[0.5, 1.0], [1.0, 2.0], [1.5, 3.0], [2.0, 4.0]])\n",
        "labels = torch.tensor([[0.5], [1.0], [1.5], [2.0]])"
      ],
      "metadata": {
        "id": "E9swvzz8EmYj"
      },
      "execution_count": null,
      "outputs": []
    },
    {
      "cell_type": "code",
      "source": [
        "import torch.nn as nn\n",
        "\n",
        "class SimpleNN(nn.Module):\n",
        "    def __init__(self):\n",
        "        super(SimpleNN, self).__init__()\n",
        "        self.fc1 = nn.Linear(2, 3)\n",
        "        self.relu = nn.ReLU()\n",
        "        self.fc2 = nn.Linear(3, 1)\n",
        "\n",
        "    def forward(self, x):\n",
        "        x = self.relu(self.fc1(x))\n",
        "        x = self.fc2(x)\n",
        "        return x\n",
        "\n",
        "# Initialize network\n",
        "model = SimpleNN()\n",
        "\n",
        "\n",
        "num_params = 0\n",
        "for each in model.parameters():\n",
        "  # print(each.shape)\n",
        "  print(each.numel())\n",
        "  num_params += each.numel()\n",
        "print('total:', num_params)\n"
      ],
      "metadata": {
        "colab": {
          "base_uri": "https://localhost:8080/"
        },
        "id": "QzFRt1lQCsGw",
        "outputId": "5728ecac-2883-47d9-8da6-c0802579e130"
      },
      "execution_count": null,
      "outputs": [
        {
          "output_type": "stream",
          "name": "stdout",
          "text": [
            "6\n",
            "3\n",
            "3\n",
            "1\n",
            "total: 13\n"
          ]
        }
      ]
    },
    {
      "cell_type": "markdown",
      "source": [
        "# Q4\n",
        "\n",
        "Train the network for 100 epochs using Mean Squared Error (MSE) loss and Stochastic Gradient Descent (SGD) optimizer. Set the learning rate to 0.01.\n",
        "\n",
        "Enter the final loss after 100 epochs\n",
        "\n"
      ],
      "metadata": {
        "id": "mVZkqKenEXlL"
      }
    },
    {
      "cell_type": "code",
      "source": [
        "\n",
        "\n",
        "# Code with fixed dataset and model\n",
        "import torch.optim as optim\n",
        "\n",
        "# Loss function and optimizer\n",
        "criterion = nn.MSELoss()\n",
        "optimizer = optim.SGD(model.parameters(), lr=0.01)\n",
        "\n",
        "# Training loop\n",
        "for epoch in range(100):\n",
        "    optimizer.zero_grad()\n",
        "    outputs = model(features)\n",
        "    loss = criterion(outputs, labels)\n",
        "    loss.backward()\n",
        "    optimizer.step()\n",
        "\n",
        "final_loss = loss.item()\n",
        "final_loss\n"
      ],
      "metadata": {
        "colab": {
          "base_uri": "https://localhost:8080/"
        },
        "id": "z7rNYNlaEb5x",
        "outputId": "d633507d-0cb8-459b-e0f3-bfd98e7125a7"
      },
      "execution_count": null,
      "outputs": [
        {
          "output_type": "execute_result",
          "data": {
            "text/plain": [
              "0.3262406885623932"
            ]
          },
          "metadata": {},
          "execution_count": 5
        }
      ]
    },
    {
      "cell_type": "markdown",
      "source": [
        "# Q5\n",
        "\n",
        "Using the same network from Question 3, change the activation function in the hidden layer from ReLU to Sigmoid. Train for 100 epochs. How does the final loss compare to the one obtained with ReLU?\n",
        "\n",
        "A) Loss decreases.\\\n",
        "B) Loss increases.\\\n",
        "C) Loss stays the same.\\\n",
        "D) Cannot be determined.\n",
        "\n",
        "Ans: A"
      ],
      "metadata": {
        "id": "gDZBw6AmEwP8"
      }
    },
    {
      "cell_type": "code",
      "source": [
        "# Code for Sigmoid activation\n",
        "class SimpleNN_Sigmoid(nn.Module):\n",
        "    def __init__(self):\n",
        "        super(SimpleNN_Sigmoid, self).__init__()\n",
        "        self.fc1 = nn.Linear(2, 3)\n",
        "        self.sigmoid = nn.Sigmoid()\n",
        "        self.fc2 = nn.Linear(3, 1)\n",
        "\n",
        "    def forward(self, x):\n",
        "        x = self.sigmoid(self.fc1(x))\n",
        "        x = self.fc2(x)\n",
        "        return x\n",
        "\n"
      ],
      "metadata": {
        "id": "pAPFiP3wE73X"
      },
      "execution_count": null,
      "outputs": []
    },
    {
      "cell_type": "code",
      "source": [
        "\n",
        "# Use same training procedure, compute final loss with Sigmoid\n",
        "\n",
        "\n",
        "# Code with fixed dataset and model\n",
        "import torch.optim as optim\n",
        "\n",
        "# Loss function and optimizer\n",
        "criterion = nn.MSELoss()\n",
        "optimizer = optim.SGD(model.parameters(), lr=0.01)\n",
        "\n",
        "# Training loop\n",
        "for epoch in range(100):\n",
        "    optimizer.zero_grad()\n",
        "    outputs = model(features)\n",
        "    loss = criterion(outputs, labels)\n",
        "    loss.backward()\n",
        "    optimizer.step()\n",
        "\n",
        "final_loss = loss.item()\n",
        "final_loss"
      ],
      "metadata": {
        "colab": {
          "base_uri": "https://localhost:8080/"
        },
        "id": "tBRC1ozzFAMS",
        "outputId": "4ca7c792-ba53-49aa-d9c0-541a9fc96312"
      },
      "execution_count": null,
      "outputs": [
        {
          "output_type": "execute_result",
          "data": {
            "text/plain": [
              "0.28430449962615967"
            ]
          },
          "metadata": {},
          "execution_count": 7
        }
      ]
    },
    {
      "cell_type": "markdown",
      "source": [
        "# Q6\n",
        "\n",
        "Use this small fixed binary classification dataset:\n",
        "\n",
        "```\n",
        "features = torch.tensor([[0.5, 1.0], [1.0, 1.5], [1.5, 2.0], [2.0, 2.5]])\n",
        "labels = torch.tensor([[0], [1], [1], [0]])\n",
        "```\n",
        "Build a neural network with 2 input features, a hidden layer of 3 neurons, and an output layer for binary classification. Use the Sigmoid activation in the output layer. Train the network using binary cross-entropy loss for 100 epochs with learning rate 0.01. What is the final accuracy?\n",
        "\n",
        "Ans: 50 (Range: 49 to 51)"
      ],
      "metadata": {
        "id": "IHTkayTRGaMi"
      }
    },
    {
      "cell_type": "code",
      "source": [
        "features = torch.tensor([[0.5, 1.0], [1.0, 1.5], [1.5, 2.0], [2.0, 2.5]])\n",
        "labels = torch.tensor([[0], [1], [1], [0]])"
      ],
      "metadata": {
        "id": "NXy56s_eGtnY"
      },
      "execution_count": null,
      "outputs": []
    },
    {
      "cell_type": "code",
      "source": [
        "# Code with fixed dataset and network\n",
        "class BinaryNN(nn.Module):\n",
        "    def __init__(self):\n",
        "        super(BinaryNN, self).__init__()\n",
        "        self.fc1 = nn.Linear(2, 3)\n",
        "        self.relu = nn.ReLU()\n",
        "        self.fc2 = nn.Linear(3, 1)\n",
        "        self.sigmoid = nn.Sigmoid()\n",
        "\n",
        "    def forward(self, x):\n",
        "        x = self.relu(self.fc1(x))\n",
        "        x = self.sigmoid(self.fc2(x))\n",
        "        return x\n",
        "\n",
        "# Initialize model, define optimizer and loss function\n",
        "model = BinaryNN()\n",
        "criterion = nn.BCELoss()\n",
        "optimizer = optim.SGD(model.parameters(), lr=0.01)\n",
        "\n",
        "# Training loop\n",
        "for epoch in range(100):\n",
        "    optimizer.zero_grad()\n",
        "    outputs = model(features)\n",
        "    loss = criterion(outputs, labels.float())\n",
        "    loss.backward()\n",
        "    optimizer.step()\n",
        "\n",
        "# Calculate accuracy\n",
        "preds = outputs.round()  # Round predictions to get class labels (0 or 1)\n",
        "accuracy = (preds == labels).sum().item() / len(labels) * 100\n",
        "\n",
        "accuracy\n"
      ],
      "metadata": {
        "colab": {
          "base_uri": "https://localhost:8080/"
        },
        "id": "eHLZtZ0cGrOx",
        "outputId": "a982c588-95d8-4c91-cf03-157ed08d629d"
      },
      "execution_count": null,
      "outputs": [
        {
          "output_type": "execute_result",
          "data": {
            "text/plain": [
              "50.0"
            ]
          },
          "metadata": {},
          "execution_count": 9
        }
      ]
    },
    {
      "cell_type": "markdown",
      "source": [
        "# Q7\n",
        "\n",
        "Implement a CNN with one convolutional layer (32 filters, 3x3 kernel, stride = 1, padding = 0) followed by a max-pooling layer (2x2). If the input is of size [32, 1, 28, 28] (Use the input `torch.randn(32, 1, 28, 28)`), what will be the output size after the max-pooling layer?\n",
        "\n",
        "**Options**\n",
        "\n",
        "(A) `torch.Size([1, 32, 13, 13])`\n",
        "\n",
        "(B) `torch.Size([32, 1, 13, 13])`\n",
        "\n",
        "(C) `torch.Size([1, 32, 12, 12])`\n",
        "\n",
        "(D) `torch.Size([32, 32, 13, 13])`\n",
        "\n",
        "**Answer**\n",
        "\n",
        "D\n"
      ],
      "metadata": {
        "id": "lLbUJLcy_d7z"
      }
    },
    {
      "cell_type": "code",
      "source": [
        "conv = nn.Conv2d(1, 32, kernel_size=3, stride=1)\n",
        "pool = nn.MaxPool2d(2, 2)\n",
        "inputs = torch.randn(32, 1, 28, 28)\n",
        "out = conv(inputs)\n",
        "out = pool(out)\n",
        "result = out.size()\n",
        "result"
      ],
      "metadata": {
        "colab": {
          "base_uri": "https://localhost:8080/"
        },
        "id": "RJ05cIfr-jA-",
        "outputId": "43176b8b-88ac-48e5-ae29-185cea3bc04c"
      },
      "execution_count": null,
      "outputs": [
        {
          "output_type": "execute_result",
          "data": {
            "text/plain": [
              "torch.Size([32, 32, 13, 13])"
            ]
          },
          "metadata": {},
          "execution_count": 29
        }
      ]
    },
    {
      "cell_type": "markdown",
      "source": [
        "# Q8\n",
        "\n",
        "Using the `torchvision.datasets` module, load the CIFAR-10 training dataset and use `torchvision.transforms` to convert them into tensors.\n",
        "\n",
        "Use DataLoader to load the dataset with the following settings:\n",
        "* Batch size = 64\n",
        "* Shuffle = True\n",
        "\n",
        "How many training data points are there in the last batch?\n",
        "\n",
        "Ans: 16 No range is required"
      ],
      "metadata": {
        "id": "vuPBummdG1Jl"
      }
    },
    {
      "cell_type": "code",
      "source": [
        "import torch\n",
        "import torchvision\n",
        "from torch.utils.data import DataLoader\n",
        "import torchvision.transforms as transforms\n",
        "\n",
        "transform = transforms.Compose([transforms.ToTensor()])\n",
        "train_dataset = torchvision.datasets.CIFAR10(root='./data', train=True, download=True, transform=transform)\n",
        "\n",
        "\n",
        "train_loader = DataLoader(train_dataset, batch_size=64, shuffle=True)\n",
        "\n",
        "for batch in train_loader:\n",
        "    last_batch = batch\n",
        "\n",
        "last_batch_size = last_batch[0].shape\n",
        "last_batch_size\n"
      ],
      "metadata": {
        "colab": {
          "base_uri": "https://localhost:8080/"
        },
        "id": "a3NsBfKcB6SN",
        "outputId": "f828c8f4-9edf-4bab-aef1-534123d74230"
      },
      "execution_count": null,
      "outputs": [
        {
          "output_type": "stream",
          "name": "stdout",
          "text": [
            "Files already downloaded and verified\n"
          ]
        },
        {
          "output_type": "execute_result",
          "data": {
            "text/plain": [
              "torch.Size([16, 3, 32, 32])"
            ]
          },
          "metadata": {},
          "execution_count": 36
        }
      ]
    },
    {
      "cell_type": "markdown",
      "source": [
        "# Q9\n",
        "\n",
        "What is the purpose of the `collate_fn` parameter in `torch.utils.data.DataLoader`?\n",
        "\n",
        "**Options**\n",
        "\n",
        "(A) To define how a batch of data should be collated from individual data samples.\n",
        "\n",
        "(B) To make the batch size compatible with model architecture.\n",
        "\n",
        "(C) To split data into training and validation sets.\n",
        "\n",
        "(D) To handle data augmentation\n",
        "\n",
        "\n",
        "Ans (A)\n"
      ],
      "metadata": {
        "id": "JXCzZ6-AJmks"
      }
    },
    {
      "cell_type": "markdown",
      "source": [
        "#Q10\n",
        "\n",
        "Use the following preprocessed dataset for training a simple RNN model:\n",
        "```\n",
        "X_train = torch.tensor([\n",
        "    [1, 2, 3, 4],\n",
        "    [2, 3, 4, 5],\n",
        "    [3, 4, 5, 6],\n",
        "    [4, 5, 6, 7]\n",
        "], dtype=torch.float32)\n",
        "\n",
        "y_train = torch.tensor([5, 6, 7, 8], dtype=torch.float32)\n",
        "```\n",
        "\n",
        "Use the manual seed to be 42.\n",
        "\n",
        "Define and Train the RNN Model:\n",
        "\n",
        "Model Structure:\n",
        "RNN Layer: This layer will process the input sequences. The number of hidden units in the RNN layer is 5.\n",
        "\n",
        "Fully Connected Layer: This layer will map the RNN output to the final output size.\n",
        "\n",
        "Output Size: The output size is 1\n",
        "\n",
        "Hidden Size: The hidden size (5)\n",
        "Loss Function: Mean Squared Error (MSE) is used for regression tasks.\n",
        "\n",
        "Optimizer: Stochastic Gradient Descent (SGD) is used with learning rate = 0.1.\n",
        "\n",
        "Training: Train the model for 2 epochs.\n",
        "\n",
        "Enter the loss after 2 epochs.\n",
        "\n",
        "\n",
        "Ans: $[20, 34]$"
      ],
      "metadata": {
        "id": "1I33nhn-RWHh"
      }
    },
    {
      "cell_type": "code",
      "source": [
        "import torch\n",
        "import torch.nn as nn\n",
        "import torch.optim as optim\n",
        "\n",
        "\n",
        "torch.manual_seed(42)\n",
        "X_train = torch.tensor([\n",
        "    [1, 2, 3, 4],\n",
        "    [2, 3, 4, 5],\n",
        "    [3, 4, 5, 6],\n",
        "    [4, 5, 6, 7]\n",
        "], dtype=torch.float32)\n",
        "\n",
        "y_train = torch.tensor([5, 6, 7, 8], dtype=torch.float32)\n",
        "\n",
        "\n",
        "class RNNModel(nn.Module):\n",
        "    def __init__(self, input_size, hidden_size, output_size):\n",
        "        super(RNNModel, self).__init__()\n",
        "        self.rnn = nn.RNN(input_size, hidden_size, batch_first=True)\n",
        "        self.fc = nn.Linear(hidden_size, output_size)\n",
        "\n",
        "    def forward(self, x):\n",
        "        out, _ = self.rnn(x.unsqueeze(1))\n",
        "        out = self.fc(out[:, -1, :])\n",
        "        return out\n",
        "\n",
        "\n",
        "input_size = X_train.size(1)\n",
        "hidden_size = 5\n",
        "output_size = 1\n",
        "\n",
        "model = RNNModel(input_size, hidden_size, output_size)\n",
        "\n",
        "\n",
        "criterion = nn.MSELoss()\n",
        "optimizer = optim.SGD(model.parameters(), lr=0.01)\n",
        "\n",
        "\n",
        "epochs = 2\n",
        "for epoch in range(epochs):\n",
        "    model.train()\n",
        "    optimizer.zero_grad()\n",
        "    outputs = model(X_train)\n",
        "    loss = criterion(outputs.squeeze(), y_train)\n",
        "    loss.backward()\n",
        "    optimizer.step()\n",
        "\n",
        "    if (epoch + 1) % 2 == 0:\n",
        "        print(f'Epoch [{epoch + 1}/{epochs}], Loss: {loss.item():.4f}')\n"
      ],
      "metadata": {
        "colab": {
          "base_uri": "https://localhost:8080/"
        },
        "id": "-398nrFINb1w",
        "outputId": "ba96924d-8616-46eb-c638-1f7c58f42c1a"
      },
      "execution_count": null,
      "outputs": [
        {
          "output_type": "stream",
          "name": "stdout",
          "text": [
            "Epoch [2/2], Loss: 27.4603\n"
          ]
        }
      ]
    },
    {
      "cell_type": "markdown",
      "source": [
        "# Q11\n",
        "\n",
        "You are provided with the following code snippets that use `torch.nn.RNN`. Identify which option will raise an error based on incorrect usage of the RNN module.\n",
        "\n",
        "```\n",
        "import torch\n",
        "import torch.nn as nn\n",
        "\n",
        "# RNN parameters\n",
        "input_size = 4  # Number of features in the input\n",
        "hidden_size = 5  # Number of hidden units\n",
        "num_layers = 2  # Number of RNN layers\n",
        "batch_size = 3  # Batch size\n",
        "sequence_length = 6  # Sequence length\n",
        "\n",
        "# Initialize RNN\n",
        "rnn = nn.RNN(input_size=input_size, hidden_size=hidden_size, num_layers=num_layers, batch_first=True)\n",
        "\n",
        "# Random input data\n",
        "X = torch.randn(batch_size, sequence_length, input_size)\n",
        "\n",
        "# Forward pass\n",
        "out, h_n = rnn(X)\n",
        "\n",
        "```\n",
        "\n",
        "**Options**\n",
        "\n",
        "(A)\n",
        "```\n",
        "input_size = 5\n",
        "rnn = nn.RNN(input_size=input_size, hidden_size=hidden_size, num_layers=num_layers, batch_first=True)\n",
        "out, h_n = rnn(X)\n",
        "```\n",
        "(B)\n",
        "```\n",
        "rnn = nn.RNN(input_size=input_size, hidden_size=hidden_size, num_layers=1, batch_first=False)\n",
        "out, h_n = rnn(X)\n",
        "```\n",
        "(C)\n",
        "```\n",
        "batch_size = 1\n",
        "X = torch.randn(batch_size, sequence_length, input_size)\n",
        "out, h_n = rnn(X)\n",
        "```\n",
        "(D)\n",
        "```\n",
        "hidden_size = 7\n",
        "rnn = nn.RNN(input_size=input_size, hidden_size=hidden_size, num_layers=num_layers, batch_first=True)\n",
        "out, h_n = rnn(X)\n",
        "```\n",
        "\n",
        "Ans: (A), (B)"
      ],
      "metadata": {
        "id": "4DJI7MjuIZW6"
      }
    },
    {
      "cell_type": "code",
      "source": [],
      "metadata": {
        "id": "jVJ6gEk2TJRz"
      },
      "execution_count": null,
      "outputs": []
    }
  ]
}